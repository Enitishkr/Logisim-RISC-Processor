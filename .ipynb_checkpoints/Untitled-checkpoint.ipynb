{
 "cells": [
  {
   "cell_type": "code",
   "execution_count": 81,
   "metadata": {},
   "outputs": [
    {
     "data": {
      "text/plain": [
       "'0000000F'"
      ]
     },
     "execution_count": 81,
     "metadata": {},
     "output_type": "execute_result"
    }
   ],
   "source": [
    " "
   ]
  },
  {
   "cell_type": "code",
   "execution_count": 152,
   "metadata": {},
   "outputs": [
    {
     "data": {
      "text/plain": [
       "15"
      ]
     },
     "execution_count": 152,
     "metadata": {},
     "output_type": "execute_result"
    }
   ],
   "source": [
    "int('1111',2)"
   ]
  },
  {
   "cell_type": "code",
   "execution_count": 154,
   "metadata": {},
   "outputs": [
    {
     "data": {
      "text/plain": [
       "7"
      ]
     },
     "execution_count": 154,
     "metadata": {},
     "output_type": "execute_result"
    }
   ],
   "source": [
    "int('0b111',2)"
   ]
  },
  {
   "cell_type": "code",
   "execution_count": 155,
   "metadata": {},
   "outputs": [],
   "source": [
    "a='0x111'"
   ]
  },
  {
   "cell_type": "code",
   "execution_count": 158,
   "metadata": {},
   "outputs": [
    {
     "data": {
      "text/plain": [
       "'0x'"
      ]
     },
     "execution_count": 158,
     "metadata": {},
     "output_type": "execute_result"
    }
   ],
   "source": [
    "a[:2]"
   ]
  },
  {
   "cell_type": "code",
   "execution_count": 277,
   "metadata": {},
   "outputs": [],
   "source": [
    "op_codes = {\n",
    "'halt'  :   '00000',\n",
    "'load'  :   '00001',\n",
    "'store' :   '00010',\n",
    "'mov'  :   '00011',\n",
    "'jmp'   :   '00100',\n",
    "'jz'    :   '00101',\n",
    "'jc'    :   '00110',\n",
    "'nop'   :   '00111',\n",
    "'add'   :   '01000',\n",
    "'sub'   :   '01001',\n",
    "'and'   :   '01010',\n",
    "'or'    :   '01011',\n",
    "'not'   :   '01100',\n",
    "'xor'   :   '01101',\n",
    "'rnd'   :   '01110',\n",
    "'cmp'   :   '01111'\n",
    "#Immediate Instructions   \n",
    "}\n",
    "\n",
    "def reg(code):\n",
    "    if(code[0]!='r'): raise Exception('Not a register')\n",
    "    rno = int(code[1:])\n",
    "    if(rno < 0 or rno >=32): raise Exception('Only 32 Registers, but given: '+code+' '+rno )\n",
    "    return '{:05b}'.format(rno)\n",
    "def getImmediate(token):\n",
    "    base=10\n",
    "    if(token[:2]=='0x'): base=16\n",
    "    elif(token[:2]=='0b'): base=2\n",
    "    val=int(token,base)\n",
    "    #print('imm: '+'{:016b}'.format(val))\n",
    "    return '{:016b}'.format(val)\n",
    "    \n"
   ]
  },
  {
   "cell_type": "code",
   "execution_count": 248,
   "metadata": {},
   "outputs": [],
   "source": [
    "\n",
    "def convert_line(line):\n",
    "    if(line.find('#')>=0): line=line[:line.index('#')]\n",
    "    line=line.strip().lower()\n",
    "    tokens=line.split()\n",
    "    op=tokens[0]\n",
    "    immediate=False\n",
    "    \n",
    "    if(op[-1]=='i'):\n",
    "        immediate=True\n",
    "        op=op[:-1]\n",
    "        \n",
    "    if(not op in op_codes): raise Exception('Invalid Operation')    \n",
    "    \n",
    "    imm = '1' if immediate else '0'\n",
    "    ra='00000'\n",
    "    rb='00000'\n",
    "    rc='00000'\n",
    "    ending='0000000000000000' # 16bit\n",
    "    empty='00000000000' #11 bit\n",
    "    \n",
    "    if(op in ['halt','nop']):\n",
    "        pass\n",
    "    \n",
    "    elif immediate:\n",
    "        if(op in ['not','rnd']): # Instructions of the form op RA Immediate\n",
    "            raise Exception('Operation does not support Immediate Mode')\n",
    "        elif(op in ['jump','jz','jc']): # Instructions of the form op RA Immediate\n",
    "            ending=getImmediate(tokens[1])\n",
    "        elif(op in ['add','sub','and','or','xor']):\n",
    "            rc=reg(tokens[1])\n",
    "            ra=reg(tokens[2])\n",
    "            ending=getImmediate(tokens[3])\n",
    "        elif(op in ['mov','load']):\n",
    "            rc=reg(tokens[1])\n",
    "            ending=getImmediate(tokens[2])\n",
    "        elif(op in ['cmp']):\n",
    "            ra=reg(tokens[1])\n",
    "            ending=getImmediate(tokens[2])\n",
    "        elif(op in ['store']):\n",
    "            rb=reg(tokens[1])\n",
    "            ending=getImmediate(tokens[2])\n",
    "            \n",
    "    else:\n",
    "        \n",
    "        if(op in ['jump','jz','jc']): # Instructions of the form op RA Immediate\n",
    "            rb=reg(tokens[1])\n",
    "        elif(op in ['add','sub','and','or','xor']):\n",
    "            rc=reg(tokens[1])\n",
    "            ra=reg(tokens[2])\n",
    "            rb=reg(tokens[3])\n",
    "        elif(op in ['mov','not']):\n",
    "            rc=reg(tokens[1])\n",
    "            rb=reg(tokens[2])\n",
    "        elif(op in ['cmp']):\n",
    "            ra=reg(tokens[1])\n",
    "            rb=reg(tokens[2])\n",
    "        elif(op in ['store']):\n",
    "            ra=reg(tokens[2])\n",
    "            rb=reg(tokens[1])\n",
    "        elif(op in ['rnd']):\n",
    "            rc=reg(tokens[1])\n",
    "        elif(op in ['load']):\n",
    "            rc=reg(tokens[1])\n",
    "            rb=reg(tokens[2])\n",
    "        ending=rb+empty\n",
    "        \n",
    "    binary_opcode = op_codes[op]+ra+rc+ending+imm\n",
    "    if(len(binary_opcode)!=32): raise Exception('Parse Error - Instruction smaller than 32bit')\n",
    "    return '%08X' % int(binary_opcode, 2)\n",
    "\n"
   ]
  },
  {
   "cell_type": "code",
   "execution_count": 241,
   "metadata": {},
   "outputs": [],
   "source": [
    "a='aaaa s##dfsdf'"
   ]
  },
  {
   "cell_type": "code",
   "execution_count": 242,
   "metadata": {},
   "outputs": [],
   "source": [
    "line=a"
   ]
  },
  {
   "cell_type": "code",
   "execution_count": 243,
   "metadata": {},
   "outputs": [],
   "source": [
    "if(line.find('#')>=0): line=line[:line.index('#')]"
   ]
  },
  {
   "cell_type": "code",
   "execution_count": 244,
   "metadata": {},
   "outputs": [
    {
     "data": {
      "text/plain": [
       "'aaaa s'"
      ]
     },
     "execution_count": 244,
     "metadata": {},
     "output_type": "execute_result"
    }
   ],
   "source": [
    "line"
   ]
  },
  {
   "cell_type": "code",
   "execution_count": 292,
   "metadata": {},
   "outputs": [],
   "source": [
    "def debug(line):\n",
    "    a=convert_line(line)\n",
    "    b='{:032b}'.format(int(a,16))\n",
    "    print(line+'\\n')\n",
    "    print(a,b,len(b))\n",
    "    print('Op: '+b[:5] + '   ' +  str(  int(b[:5],2)))\n",
    "    print('RA: '+b[5:10] + '   ' + str(int(b[5:10],2)))\n",
    "    print('RC: '+b[10:15] + '   ' + str(int(b[10:15],2)))\n",
    "    print('RB: '+b[15:20] + '   ' + str(int(b[15:20],2)))\n",
    "    print('Immediate: '+ b[16:32]+ '   ' + str(int(b[16:31],2)))\n",
    "    print('\\n')"
   ]
  },
  {
   "cell_type": "code",
   "execution_count": 293,
   "metadata": {},
   "outputs": [
    {
     "name": "stdout",
     "output_type": "stream",
     "text": [
      "add r21 r31 r11\n",
      "\n",
      "('47EAB000', '01000111111010101011000000000000', 32)\n",
      "Op: 01000   8\n",
      "RA: 11111   31\n",
      "RC: 10101   21\n",
      "RB: 01011   11\n",
      "Immediate: 1011000000000000   22528\n",
      "\n",
      "\n"
     ]
    }
   ],
   "source": [
    "debug('add r21 r31 r11')"
   ]
  },
  {
   "cell_type": "code",
   "execution_count": 294,
   "metadata": {},
   "outputs": [],
   "source": [
    "s=['movi r1 123',\n",
    "'movi r2 456',\n",
    "'movi r3 789',\n",
    "'movi r4 21',\n",
    "'movi r5 322',\n",
    "'movi r6 222',\n",
    "'movi r7 555',]\n"
   ]
  },
  {
   "cell_type": "code",
   "execution_count": 295,
   "metadata": {},
   "outputs": [
    {
     "name": "stdout",
     "output_type": "stream",
     "text": [
      "imm: 0000000001111011\n",
      "movi r1 123\n",
      "\n",
      "('180200F7', '00011000000000100000000011110111', 32)\n",
      "Op: 00011   3\n",
      "RA: 00000   0\n",
      "RC: 00001   1\n",
      "RB: 00000   0\n",
      "Immediate: 0000000011110111   123\n",
      "\n",
      "\n",
      "imm: 0000000111001000\n",
      "movi r2 456\n",
      "\n",
      "('18040391', '00011000000001000000001110010001', 32)\n",
      "Op: 00011   3\n",
      "RA: 00000   0\n",
      "RC: 00010   2\n",
      "RB: 00000   0\n",
      "Immediate: 0000001110010001   456\n",
      "\n",
      "\n",
      "imm: 0000001100010101\n",
      "movi r3 789\n",
      "\n",
      "('1806062B', '00011000000001100000011000101011', 32)\n",
      "Op: 00011   3\n",
      "RA: 00000   0\n",
      "RC: 00011   3\n",
      "RB: 00000   0\n",
      "Immediate: 0000011000101011   789\n",
      "\n",
      "\n",
      "imm: 0000000000010101\n",
      "movi r4 21\n",
      "\n",
      "('1808002B', '00011000000010000000000000101011', 32)\n",
      "Op: 00011   3\n",
      "RA: 00000   0\n",
      "RC: 00100   4\n",
      "RB: 00000   0\n",
      "Immediate: 0000000000101011   21\n",
      "\n",
      "\n",
      "imm: 0000000101000010\n",
      "movi r5 322\n",
      "\n",
      "('180A0285', '00011000000010100000001010000101', 32)\n",
      "Op: 00011   3\n",
      "RA: 00000   0\n",
      "RC: 00101   5\n",
      "RB: 00000   0\n",
      "Immediate: 0000001010000101   322\n",
      "\n",
      "\n",
      "imm: 0000000011011110\n",
      "movi r6 222\n",
      "\n",
      "('180C01BD', '00011000000011000000000110111101', 32)\n",
      "Op: 00011   3\n",
      "RA: 00000   0\n",
      "RC: 00110   6\n",
      "RB: 00000   0\n",
      "Immediate: 0000000110111101   222\n",
      "\n",
      "\n",
      "imm: 0000001000101011\n",
      "movi r7 555\n",
      "\n",
      "('180E0457', '00011000000011100000010001010111', 32)\n",
      "Op: 00011   3\n",
      "RA: 00000   0\n",
      "RC: 00111   7\n",
      "RB: 00000   0\n",
      "Immediate: 0000010001010111   555\n",
      "\n",
      "\n"
     ]
    }
   ],
   "source": [
    "for line in s:\n",
    "    debug(line)"
   ]
  },
  {
   "cell_type": "code",
   "execution_count": 59,
   "metadata": {},
   "outputs": [],
   "source": [
    "a='loadi'"
   ]
  },
  {
   "cell_type": "code",
   "execution_count": 60,
   "metadata": {},
   "outputs": [
    {
     "data": {
      "text/plain": [
       "True"
      ]
     },
     "execution_count": 60,
     "metadata": {},
     "output_type": "execute_result"
    }
   ],
   "source": [
    "a[-1]=='i'"
   ]
  }
 ],
 "metadata": {
  "kernelspec": {
   "display_name": "Python [conda root]",
   "language": "python",
   "name": "conda-root-py"
  },
  "language_info": {
   "codemirror_mode": {
    "name": "ipython",
    "version": 2
   },
   "file_extension": ".py",
   "mimetype": "text/x-python",
   "name": "python",
   "nbconvert_exporter": "python",
   "pygments_lexer": "ipython2",
   "version": "2.7.13"
  }
 },
 "nbformat": 4,
 "nbformat_minor": 2
}
